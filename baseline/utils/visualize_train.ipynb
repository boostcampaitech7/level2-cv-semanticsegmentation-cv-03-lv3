{
 "cells": [
  {
   "cell_type": "code",
   "execution_count": 1,
   "metadata": {},
   "outputs": [],
   "source": [
    "from matplotlib import pyplot as plt\n",
    "import pandas as pd\n",
    "import os\n",
    "import cv2\n",
    "import glob\n",
    "import numpy as np\n",
    "import json"
   ]
  },
  {
   "cell_type": "code",
   "execution_count": 22,
   "metadata": {},
   "outputs": [],
   "source": [
    "# define colors\n",
    "PALETTE = [\n",
    "    (220, 20, 60), (119, 11, 32), (0, 0, 142), (0, 0, 230), (106, 0, 228),\n",
    "    (0, 60, 100), (0, 80, 100), (0, 0, 70), (0, 0, 192), (250, 170, 30),\n",
    "    (100, 170, 30), (220, 220, 0), (175, 116, 175), (250, 0, 30), (165, 42, 42),\n",
    "    (255, 77, 255), (0, 226, 252), (182, 182, 255), (0, 82, 0), (120, 166, 157),\n",
    "    (110, 76, 0), (174, 57, 255), (199, 100, 0), (72, 0, 118), (255, 179, 240),\n",
    "    (0, 125, 92), (209, 0, 151), (188, 208, 182), (0, 220, 176),\n",
    "]\n",
    "\n",
    "# convert to normalized RGB value\n",
    "PALETTE1 = [(r/255, g/255, b/255) for r, g, b in PALETTE]"
   ]
  },
  {
   "cell_type": "code",
   "execution_count": 14,
   "metadata": {},
   "outputs": [],
   "source": [
    "# set the path\n",
    "IMAGE_ROOT = \"../data/train/DCM\"\n",
    "\n",
    "pngs = [\n",
    "    os.path.relpath(os.path.join(root, fname), start=IMAGE_ROOT)\n",
    "    for root, _dirs, files in os.walk(IMAGE_ROOT)\n",
    "    for fname in files\n",
    "    if os.path.splitext(fname)[1].lower() == \".png\"\n",
    "]"
   ]
  },
  {
   "cell_type": "code",
   "execution_count": 17,
   "metadata": {},
   "outputs": [],
   "source": [
    "# input the image name to check\n",
    "imgname = 'ID277/image1664155070330.png'\n",
    "idx = pngs.index(imgname)"
   ]
  },
  {
   "cell_type": "code",
   "execution_count": 18,
   "metadata": {},
   "outputs": [],
   "source": [
    "# open image & json\n",
    "image = cv2.imread('../data/train/DCM/{}'.format(imgname))\n",
    "\n",
    "with open('../data/train/outputs_json/{}.json'.format(imgname.replace('.png', '')), 'r', encoding='utf-8') as f:\n",
    "\ttrain_json = json.load(f)\n",
    " \n",
    "train_json1 = train_json['annotations']"
   ]
  },
  {
   "cell_type": "code",
   "execution_count": 1,
   "metadata": {},
   "outputs": [
    {
     "data": {
      "text/plain": [
       "\"\\n# visualize\\nplt.figure(dpi=300, figsize=(5,5))\\nplt.imshow(image)\\nplt.axis('off')\\n\\nfor ind, i in enumerate(train_json1):\\n    c = i['points']\\n    xc = [x[0] for x in c]\\n    yc = [x[1] for x in c]\\n    center = [np.mean(xc), np.mean(yc)]\\n    plt.scatter(xc, yc, color=PALETTE1[ind], s=5, alpha=0.5)\\n    plt.text(center[0], center[1], i['label'], color=PALETTE1[ind], fontsize=4, zorder=7)\\n    plt.text(center[0], center[1], i['label'], color='white', fontsize=4, zorder=5)\\n    \\nplt.show()\\n#plt.savefig()   # if you want to save\\n\""
      ]
     },
     "execution_count": 1,
     "metadata": {},
     "output_type": "execute_result"
    }
   ],
   "source": [
    "# visualize\n",
    "plt.figure(dpi=300, figsize=(5,5))\n",
    "plt.imshow(image)\n",
    "plt.axis('off')\n",
    "\n",
    "for ind, i in enumerate(train_json1):\n",
    "    c = i['points']\n",
    "    xc = [x[0] for x in c]\n",
    "    yc = [x[1] for x in c]\n",
    "    center = [np.mean(xc), np.mean(yc)]\n",
    "    plt.scatter(xc, yc, color=PALETTE1[ind], s=5, alpha=0.5)\n",
    "    plt.text(center[0], center[1], i['label'], color=PALETTE1[ind], fontsize=4, zorder=7)\n",
    "    plt.text(center[0], center[1], i['label'], color='white', fontsize=4, zorder=5)\n",
    "    \n",
    "plt.show()\n",
    "#plt.savefig()   # if you want to save"
   ]
  },
  {
   "cell_type": "code",
   "execution_count": null,
   "metadata": {},
   "outputs": [],
   "source": []
  }
 ],
 "metadata": {
  "kernelspec": {
   "display_name": "base",
   "language": "python",
   "name": "python3"
  },
  "language_info": {
   "codemirror_mode": {
    "name": "ipython",
    "version": 3
   },
   "file_extension": ".py",
   "mimetype": "text/x-python",
   "name": "python",
   "nbconvert_exporter": "python",
   "pygments_lexer": "ipython3",
   "version": "3.11.7"
  }
 },
 "nbformat": 4,
 "nbformat_minor": 2
}
