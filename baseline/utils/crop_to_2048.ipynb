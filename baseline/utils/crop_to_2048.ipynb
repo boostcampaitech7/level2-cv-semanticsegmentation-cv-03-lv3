{
 "cells": [
  {
   "cell_type": "markdown",
   "metadata": {},
   "source": [
    "# 1. Import library"
   ]
  },
  {
   "cell_type": "code",
   "execution_count": 61,
   "metadata": {
    "id": "FccPGWuZV397"
   },
   "outputs": [],
   "source": [
    "# python native\n",
    "import os\n",
    "import json\n",
    "import random\n",
    "import datetime\n",
    "from functools import partial\n",
    "\n",
    "# external library\n",
    "import cv2\n",
    "import numpy as np\n",
    "import pandas as pd\n",
    "from tqdm.auto import tqdm\n",
    "from sklearn.model_selection import GroupKFold\n",
    "import albumentations as A\n",
    "\n",
    "# torch\n",
    "import torch\n",
    "import torch.nn as nn\n",
    "import torch.nn.functional as F\n",
    "import torch.optim as optim\n",
    "from torch.utils.data import Dataset, DataLoader\n",
    "from torchvision import models\n",
    "from torchvision.models.segmentation import deeplabv3_resnet101\n",
    "\n",
    "# visualization\n",
    "import matplotlib.pyplot as plt\n",
    "import matplotlib.patches as patches"
   ]
  },
  {
   "cell_type": "markdown",
   "metadata": {},
   "source": [
    "# 2. Load data"
   ]
  },
  {
   "cell_type": "code",
   "execution_count": 62,
   "metadata": {
    "id": "1qunWfk_V8tG"
   },
   "outputs": [],
   "source": [
    "# 기학습 모델 사용하여 test image의 capitate infernce data load\n",
    "df=pd.read_csv('./output_unet++_diceiou.csv')"
   ]
  },
  {
   "cell_type": "code",
   "execution_count": 63,
   "metadata": {},
   "outputs": [
    {
     "data": {
      "text/html": [
       "<div>\n",
       "<style scoped>\n",
       "    .dataframe tbody tr th:only-of-type {\n",
       "        vertical-align: middle;\n",
       "    }\n",
       "\n",
       "    .dataframe tbody tr th {\n",
       "        vertical-align: top;\n",
       "    }\n",
       "\n",
       "    .dataframe thead th {\n",
       "        text-align: right;\n",
       "    }\n",
       "</style>\n",
       "<table border=\"1\" class=\"dataframe\">\n",
       "  <thead>\n",
       "    <tr style=\"text-align: right;\">\n",
       "      <th></th>\n",
       "      <th>image_name</th>\n",
       "      <th>class</th>\n",
       "      <th>rle</th>\n",
       "    </tr>\n",
       "  </thead>\n",
       "  <tbody>\n",
       "    <tr>\n",
       "      <th>21</th>\n",
       "      <td>image1661319116107.png</td>\n",
       "      <td>Capitate</td>\n",
       "      <td>2954193 3 2956237 12 2958282 19 2960328 23 296...</td>\n",
       "    </tr>\n",
       "    <tr>\n",
       "      <th>50</th>\n",
       "      <td>image1661319145363.png</td>\n",
       "      <td>Capitate</td>\n",
       "      <td>2806762 5 2808808 12 2810853 19 2812895 26 281...</td>\n",
       "    </tr>\n",
       "    <tr>\n",
       "      <th>79</th>\n",
       "      <td>image1661319356239.png</td>\n",
       "      <td>Capitate</td>\n",
       "      <td>2741231 8 2743277 12 2745321 19 2747363 28 274...</td>\n",
       "    </tr>\n",
       "    <tr>\n",
       "      <th>108</th>\n",
       "      <td>image1661319390106.png</td>\n",
       "      <td>Capitate</td>\n",
       "      <td>2714523 22 2716570 26 2718616 31 2720661 40 27...</td>\n",
       "    </tr>\n",
       "    <tr>\n",
       "      <th>137</th>\n",
       "      <td>image1661320372752.png</td>\n",
       "      <td>Capitate</td>\n",
       "      <td>2767876 4 2769902 30 2771939 43 2773982 50 277...</td>\n",
       "    </tr>\n",
       "    <tr>\n",
       "      <th>...</th>\n",
       "      <td>...</td>\n",
       "      <td>...</td>\n",
       "      <td>...</td>\n",
       "    </tr>\n",
       "    <tr>\n",
       "      <th>8228</th>\n",
       "      <td>image1664154624841.png</td>\n",
       "      <td>Capitate</td>\n",
       "      <td>2452479 13 2454524 18 2456566 33 2458599 51 24...</td>\n",
       "    </tr>\n",
       "    <tr>\n",
       "      <th>8257</th>\n",
       "      <td>image1667354218823.png</td>\n",
       "      <td>Capitate</td>\n",
       "      <td>2790428 10 2790440 12 2792472 33 2794515 41 27...</td>\n",
       "    </tr>\n",
       "    <tr>\n",
       "      <th>8286</th>\n",
       "      <td>image1667354234602.png</td>\n",
       "      <td>Capitate</td>\n",
       "      <td>2759653 3 2761694 25 2763739 34 2765786 44 276...</td>\n",
       "    </tr>\n",
       "    <tr>\n",
       "      <th>8315</th>\n",
       "      <td>image1667354405140.png</td>\n",
       "      <td>Capitate</td>\n",
       "      <td>2687982 2 2690013 13 2690027 8 2692024 5 26920...</td>\n",
       "    </tr>\n",
       "    <tr>\n",
       "      <th>8344</th>\n",
       "      <td>image1667354424553.png</td>\n",
       "      <td>Capitate</td>\n",
       "      <td>2575358 2 2577406 3 2579453 5 2581499 8 258354...</td>\n",
       "    </tr>\n",
       "  </tbody>\n",
       "</table>\n",
       "<p>288 rows × 3 columns</p>\n",
       "</div>"
      ],
      "text/plain": [
       "                  image_name     class  \\\n",
       "21    image1661319116107.png  Capitate   \n",
       "50    image1661319145363.png  Capitate   \n",
       "79    image1661319356239.png  Capitate   \n",
       "108   image1661319390106.png  Capitate   \n",
       "137   image1661320372752.png  Capitate   \n",
       "...                      ...       ...   \n",
       "8228  image1664154624841.png  Capitate   \n",
       "8257  image1667354218823.png  Capitate   \n",
       "8286  image1667354234602.png  Capitate   \n",
       "8315  image1667354405140.png  Capitate   \n",
       "8344  image1667354424553.png  Capitate   \n",
       "\n",
       "                                                    rle  \n",
       "21    2954193 3 2956237 12 2958282 19 2960328 23 296...  \n",
       "50    2806762 5 2808808 12 2810853 19 2812895 26 281...  \n",
       "79    2741231 8 2743277 12 2745321 19 2747363 28 274...  \n",
       "108   2714523 22 2716570 26 2718616 31 2720661 40 27...  \n",
       "137   2767876 4 2769902 30 2771939 43 2773982 50 277...  \n",
       "...                                                 ...  \n",
       "8228  2452479 13 2454524 18 2456566 33 2458599 51 24...  \n",
       "8257  2790428 10 2790440 12 2792472 33 2794515 41 27...  \n",
       "8286  2759653 3 2761694 25 2763739 34 2765786 44 276...  \n",
       "8315  2687982 2 2690013 13 2690027 8 2692024 5 26920...  \n",
       "8344  2575358 2 2577406 3 2579453 5 2581499 8 258354...  \n",
       "\n",
       "[288 rows x 3 columns]"
      ]
     },
     "execution_count": 63,
     "metadata": {},
     "output_type": "execute_result"
    }
   ],
   "source": [
    "# Capitate 분리\n",
    "df_capitate = df[df['class']=='Capitate']\n",
    "df_capitate"
   ]
  },
  {
   "cell_type": "markdown",
   "metadata": {},
   "source": [
    "# 3. Decode RLE & Get coordinate"
   ]
  },
  {
   "cell_type": "code",
   "execution_count": 64,
   "metadata": {},
   "outputs": [],
   "source": [
    "# Decode rle to mask\n",
    "def decode_rle_to_mask(rle, height, width):\n",
    "    s = rle.split()\n",
    "    starts, lengths = [np.asarray(x, dtype=int) for x in (s[0:][::2], s[1:][::2])]\n",
    "    starts -= 1\n",
    "    ends = starts + lengths\n",
    "    img = np.zeros(height * width, dtype=np.uint8)\n",
    "    \n",
    "    for lo, hi in zip(starts, ends):\n",
    "        img[lo:hi] = 1\n",
    "    \n",
    "    return img.reshape(height, width)"
   ]
  },
  {
   "cell_type": "code",
   "execution_count": 65,
   "metadata": {},
   "outputs": [
    {
     "name": "stdout",
     "output_type": "stream",
     "text": [
      "File name: image1661319116107.png\n",
      "Coor: (953, 1529)\n"
     ]
    }
   ],
   "source": [
    "def capitate_mask_coor(dataframe, imageidx, height, width):\n",
    "    capitate_mask = decode_rle_to_mask(dataframe.iloc[imageidx]['rle'], height, width)\n",
    "    file_name = dataframe.iloc[imageidx]['image_name']\n",
    "    y_coor, x_coor = np.where(capitate_mask == 1)\n",
    "    x_mean, y_mean = int(np.mean(x_coor)), int(np.mean(y_coor))\n",
    "    \n",
    "    return file_name, (x_mean, y_mean)\n",
    "\n",
    "'''\n",
    "imageidx: sample을 확인할 image index\n",
    "width, height = 확인용 원본 image size\n",
    "'''\n",
    "imageidx = 0\n",
    "width, height = 2048, 2048\n",
    "filename, coor = capitate_mask_coor(df_capitate, imageidx, height, width)\n",
    "\n",
    "print(f'File name: {filename}')\n",
    "print(f'Coor: {coor}')"
   ]
  },
  {
   "cell_type": "markdown",
   "metadata": {},
   "source": [
    "# 4. Check"
   ]
  },
  {
   "cell_type": "code",
   "execution_count": 66,
   "metadata": {
    "id": "ZU8n27mzb0-o"
   },
   "outputs": [],
   "source": [
    "# Test image root\n",
    "test_image_root = '/data/ephemeral/home/data/test/DCM'"
   ]
  },
  {
   "cell_type": "code",
   "execution_count": 67,
   "metadata": {},
   "outputs": [],
   "source": [
    "# Test image ID/filename 저장\n",
    "sample_path = '/data/ephemeral/home/data/test/DCM/ID040/image1661319116107.png'\n",
    "sample_path = 'image1661319116107.png'\n",
    "\n",
    "pngs = [\n",
    "    os.path.relpath(os.path.join(root, fname), start=test_image_root)\n",
    "    for root, dirs, files in os.walk(test_image_root)\n",
    "    for fname in files\n",
    "    if os.path.splitext(fname)[1].lower() == '.png'\n",
    "]\n",
    "\n",
    "pngs = sorted(pngs)"
   ]
  },
  {
   "cell_type": "code",
   "execution_count": 68,
   "metadata": {},
   "outputs": [
    {
     "name": "stdout",
     "output_type": "stream",
     "text": [
      "697 1273\n"
     ]
    }
   ],
   "source": [
    "# Make crop_coor\n",
    "def crop_coordinate(coordinate):\n",
    "    x, y = coordinate\n",
    "    x_min = x - 256\n",
    "    y_min = y - 256\n",
    "    x_max = x + 256\n",
    "    y_max = y + 256\n",
    "    \n",
    "    return x_min, y_min, x_max, y_max\n",
    "\n",
    "rectangle_x, rectangle_y = crop_coordinate(coor)[0], crop_coordinate(coor)[1]\n",
    "\n",
    "print(rectangle_x, rectangle_y)"
   ]
  },
  {
   "cell_type": "code",
   "execution_count": 69,
   "metadata": {},
   "outputs": [
    {
     "name": "stdout",
     "output_type": "stream",
     "text": [
      "Coordinate is matched image_file\n"
     ]
    }
   ],
   "source": [
    "if filename == pngs[imageidx].split('/')[1]:\n",
    "    print('Coordinate is matched image_file')\n",
    "else:\n",
    "    print('Check the middle_coordinate and image_file')\n",
    "\n",
    "# crop size & load image\n",
    "crop_width, crop_height = 512, 512\n",
    "image = cv2.imread(os.path.join(test_image_root, pngs[imageidx]))"
   ]
  },
  {
   "cell_type": "markdown",
   "metadata": {},
   "source": [
    "# 5. Make all crop_coordinate"
   ]
  },
  {
   "cell_type": "code",
   "execution_count": 71,
   "metadata": {},
   "outputs": [
    {
     "data": {
      "text/html": [
       "<div>\n",
       "<style scoped>\n",
       "    .dataframe tbody tr th:only-of-type {\n",
       "        vertical-align: middle;\n",
       "    }\n",
       "\n",
       "    .dataframe tbody tr th {\n",
       "        vertical-align: top;\n",
       "    }\n",
       "\n",
       "    .dataframe thead th {\n",
       "        text-align: right;\n",
       "    }\n",
       "</style>\n",
       "<table border=\"1\" class=\"dataframe\">\n",
       "  <thead>\n",
       "    <tr style=\"text-align: right;\">\n",
       "      <th></th>\n",
       "      <th>filename</th>\n",
       "      <th>x_min</th>\n",
       "      <th>y_min</th>\n",
       "      <th>x_max</th>\n",
       "      <th>y_max</th>\n",
       "    </tr>\n",
       "  </thead>\n",
       "  <tbody>\n",
       "    <tr>\n",
       "      <th>0</th>\n",
       "      <td>image1661319116107.png</td>\n",
       "      <td>697</td>\n",
       "      <td>1273</td>\n",
       "      <td>1209</td>\n",
       "      <td>1785</td>\n",
       "    </tr>\n",
       "    <tr>\n",
       "      <th>1</th>\n",
       "      <td>image1661319145363.png</td>\n",
       "      <td>770</td>\n",
       "      <td>1203</td>\n",
       "      <td>1282</td>\n",
       "      <td>1715</td>\n",
       "    </tr>\n",
       "    <tr>\n",
       "      <th>2</th>\n",
       "      <td>image1661319356239.png</td>\n",
       "      <td>726</td>\n",
       "      <td>1167</td>\n",
       "      <td>1238</td>\n",
       "      <td>1679</td>\n",
       "    </tr>\n",
       "    <tr>\n",
       "      <th>3</th>\n",
       "      <td>image1661319390106.png</td>\n",
       "      <td>703</td>\n",
       "      <td>1151</td>\n",
       "      <td>1215</td>\n",
       "      <td>1663</td>\n",
       "    </tr>\n",
       "    <tr>\n",
       "      <th>4</th>\n",
       "      <td>image1661320372752.png</td>\n",
       "      <td>737</td>\n",
       "      <td>1164</td>\n",
       "      <td>1249</td>\n",
       "      <td>1676</td>\n",
       "    </tr>\n",
       "    <tr>\n",
       "      <th>...</th>\n",
       "      <td>...</td>\n",
       "      <td>...</td>\n",
       "      <td>...</td>\n",
       "      <td>...</td>\n",
       "      <td>...</td>\n",
       "    </tr>\n",
       "    <tr>\n",
       "      <th>283</th>\n",
       "      <td>image1664154624841.png</td>\n",
       "      <td>785</td>\n",
       "      <td>1004</td>\n",
       "      <td>1297</td>\n",
       "      <td>1516</td>\n",
       "    </tr>\n",
       "    <tr>\n",
       "      <th>284</th>\n",
       "      <td>image1667354218823.png</td>\n",
       "      <td>776</td>\n",
       "      <td>1189</td>\n",
       "      <td>1288</td>\n",
       "      <td>1701</td>\n",
       "    </tr>\n",
       "    <tr>\n",
       "      <th>285</th>\n",
       "      <td>image1667354234602.png</td>\n",
       "      <td>792</td>\n",
       "      <td>1176</td>\n",
       "      <td>1304</td>\n",
       "      <td>1688</td>\n",
       "    </tr>\n",
       "    <tr>\n",
       "      <th>286</th>\n",
       "      <td>image1667354405140.png</td>\n",
       "      <td>707</td>\n",
       "      <td>1146</td>\n",
       "      <td>1219</td>\n",
       "      <td>1658</td>\n",
       "    </tr>\n",
       "    <tr>\n",
       "      <th>287</th>\n",
       "      <td>image1667354424553.png</td>\n",
       "      <td>797</td>\n",
       "      <td>1093</td>\n",
       "      <td>1309</td>\n",
       "      <td>1605</td>\n",
       "    </tr>\n",
       "  </tbody>\n",
       "</table>\n",
       "<p>288 rows × 5 columns</p>\n",
       "</div>"
      ],
      "text/plain": [
       "                   filename  x_min  y_min  x_max  y_max\n",
       "0    image1661319116107.png    697   1273   1209   1785\n",
       "1    image1661319145363.png    770   1203   1282   1715\n",
       "2    image1661319356239.png    726   1167   1238   1679\n",
       "3    image1661319390106.png    703   1151   1215   1663\n",
       "4    image1661320372752.png    737   1164   1249   1676\n",
       "..                      ...    ...    ...    ...    ...\n",
       "283  image1664154624841.png    785   1004   1297   1516\n",
       "284  image1667354218823.png    776   1189   1288   1701\n",
       "285  image1667354234602.png    792   1176   1304   1688\n",
       "286  image1667354405140.png    707   1146   1219   1658\n",
       "287  image1667354424553.png    797   1093   1309   1605\n",
       "\n",
       "[288 rows x 5 columns]"
      ]
     },
     "execution_count": 71,
     "metadata": {},
     "output_type": "execute_result"
    }
   ],
   "source": [
    "crop_data = []\n",
    "\n",
    "def make_crop_coor(dataframe, imageidx, height, width):\n",
    "    filename, coor = capitate_mask_coor(dataframe=dataframe, \n",
    "                                        imageidx=imageidx, \n",
    "                                        height=height, \n",
    "                                        width=width)\n",
    "    x_min, y_min, x_max, y_max = crop_coordinate(coor)\n",
    "\n",
    "    return filename, x_min, y_min, x_max, y_max\n",
    "\n",
    "height, width = 2048, 2048\n",
    "\n",
    "for idx in range(len(df_capitate)):\n",
    "    filename, x_min, y_min, x_max, y_max = make_crop_coor(df_capitate, idx, height, width)\n",
    "\n",
    "    crop_data.append([filename, x_min, y_min, x_max, y_max])\n",
    "\n",
    "df_crop = pd.DataFrame(crop_data, columns=['filename', 'x_min', 'y_min', 'x_max', 'y_max'])\n",
    "\n",
    "df_crop\n",
    "    "
   ]
  },
  {
   "cell_type": "code",
   "execution_count": 72,
   "metadata": {},
   "outputs": [
    {
     "name": "stdout",
     "output_type": "stream",
     "text": [
      "[(697, 1273), (770, 1203), (726, 1167), (703, 1151), (737, 1164), (771, 1180), (719, 1257), (770, 1264), (748, 1261), (701, 1193), (732, 1141), (727, 1151), (739, 1178), (735, 1124), (800, 1232), (718, 1202), (727, 1201), (717, 1212), (821, 1123), (707, 1129), (771, 1186), (693, 1164), (797, 1176), (721, 1202), (755, 1075), (768, 1113), (743, 1165), (789, 1202), (778, 1255), (800, 1213), (793, 1146), (758, 1155), (722, 1221), (754, 1196), (761, 1123), (763, 1169), (719, 1213), (778, 1230), (734, 1118), (725, 1118), (765, 1156), (806, 1139), (718, 1195), (746, 1156), (730, 1113), (747, 1133), (745, 1186), (759, 1136), (763, 1173), (731, 1159), (745, 1128), (758, 1116), (732, 1157), (686, 1142), (768, 1224), (716, 1204), (771, 1132), (751, 1128), (735, 1100), (733, 1182), (731, 1087), (717, 1102), (718, 1374), (668, 1213), (816, 1182), (707, 1169), (796, 1104), (682, 1116), (740, 1196), (782, 1152), (786, 1165), (736, 1117), (721, 1146), (749, 1175), (792, 1127), (748, 1127), (729, 1183), (765, 1219), (758, 1102), (770, 1155), (771, 1161), (730, 1137), (755, 1284), (740, 1157), (766, 1146), (701, 1179), (733, 1056), (760, 1036), (737, 1092), (751, 1084), (784, 1096), (768, 1158), (744, 1044), (741, 1093), (753, 1185), (736, 1154), (800, 1156), (721, 1115), (739, 1111), (730, 1087), (703, 1166), (754, 1131), (792, 1087), (703, 1152), (705, 1049), (689, 1039), (771, 1017), (736, 1092), (782, 1125), (756, 1113), (738, 1144), (727, 1163), (714, 1123), (764, 1180), (787, 1176), (696, 1200), (766, 1157), (767, 1183), (687, 989), (788, 977), (743, 985), (784, 1019), (729, 993), (715, 945), (748, 963), (751, 975), (828, 934), (746, 961), (722, 1025), (776, 991), (747, 998), (711, 993), (803, 1000), (845, 1030), (725, 1060), (787, 1046), (722, 1012), (799, 1000), (706, 1025), (783, 1020), (705, 1041), (762, 1033), (741, 952), (798, 1022), (721, 994), (783, 1018), (725, 988), (781, 995), (726, 1041), (822, 1097), (664, 961), (803, 1043), (668, 1052), (837, 1021), (686, 1039), (819, 1042), (677, 993), (807, 954), (680, 989), (800, 1113), (696, 988), (787, 1099), (701, 1026), (856, 1038), (682, 1042), (879, 999), (722, 1038), (769, 1055), (685, 976), (814, 1046), (669, 1090), (797, 1075), (757, 1043), (759, 1092), (768, 1103), (833, 1076), (708, 1004), (792, 1122), (663, 1066), (780, 1137), (695, 1020), (818, 1050), (712, 991), (809, 1091), (703, 971), (787, 1038), (651, 1011), (799, 1101), (738, 1091), (857, 1070), (714, 1015), (839, 1041), (620, 1068), (789, 1017), (611, 998), (857, 1047), (729, 995), (786, 1020), (750, 1052), (810, 1063), (674, 1002), (761, 1075), (749, 1082), (766, 1126), (680, 1065), (783, 1124), (691, 964), (846, 1045), (708, 1070), (811, 1054), (671, 968), (811, 1008), (708, 1056), (858, 1103), (722, 955), (824, 999), (669, 961), (788, 1084), (688, 1008), (834, 1020), (704, 1030), (792, 987), (732, 1071), (826, 1123), (683, 1035), (784, 1048), (695, 1042), (802, 1010), (691, 1017), (853, 991), (624, 1127), (806, 1140), (693, 893), (785, 916), (643, 990), (824, 1104), (661, 937), (857, 1022), (657, 1052), (884, 1003), (716, 945), (782, 961), (733, 923), (810, 990), (692, 982), (815, 948), (786, 1051), (811, 1072), (723, 1036), (772, 955), (717, 1006), (773, 979), (659, 921), (805, 984), (675, 919), (794, 935), (618, 1021), (836, 1041), (725, 1040), (805, 1116), (734, 1007), (868, 959), (686, 993), (830, 1051), (741, 1083), (826, 1110), (632, 1068), (800, 1024), (672, 1040), (796, 977), (611, 1122), (847, 1162), (768, 870), (829, 1026), (677, 971), (810, 993), (670, 985), (787, 987), (592, 1104), (745, 1094), (730, 1053), (767, 1050), (694, 960), (785, 1004), (776, 1189), (792, 1176), (707, 1146), (797, 1093)]\n"
     ]
    }
   ],
   "source": [
    "paired_list = list(zip(df_crop['x_min'], df_crop['y_min']))\n",
    "\n",
    "print(paired_list)"
   ]
  },
  {
   "cell_type": "code",
   "execution_count": 73,
   "metadata": {},
   "outputs": [],
   "source": [
    "wdf=pd.read_csv(\"./output_unet++_diceiou_wrist.csv\")\n"
   ]
  },
  {
   "cell_type": "code",
   "execution_count": 74,
   "metadata": {},
   "outputs": [],
   "source": [
    "def encode_mask_to_rle(mask):\n",
    "    \"\"\"\n",
    "    mask: numpy array binary mask\n",
    "    1 - mask\n",
    "    0 - background\n",
    "    Returns encoded run length\n",
    "    \"\"\"\n",
    "    pixels = mask.flatten()\n",
    "    pixels = np.concatenate([[0], pixels, [0]])\n",
    "    runs = np.where(pixels[1:] != pixels[:-1])[0] + 1\n",
    "    runs[1::2] -= runs[::2]\n",
    "    return \" \".join(str(x) for x in runs)\n",
    "\n",
    "# RLE로 인코딩된 결과를 mask map으로 복원합니다. (RLE -> mask map)\n",
    "def decode_rle_to_mask_2(rle, height, width,x,y):\n",
    "    s = str(rle).split()\n",
    "    starts, lengths = [np.asarray(x, dtype=int) for x in (s[0:][::2], s[1:][::2])]\n",
    "    starts -= 1\n",
    "    ends = starts + lengths\n",
    "    img = np.zeros(height * width, dtype=np.uint8)\n",
    "    img=img.reshape(height, width)\n",
    "    for lo, hi in zip(starts, ends):\n",
    "        for n in range(lo,hi):\n",
    "            img[(n//512)+y][(n%512)+x] = 1\n",
    "    \n",
    "    return img"
   ]
  },
  {
   "cell_type": "code",
   "execution_count": 75,
   "metadata": {},
   "outputs": [
    {
     "data": {
      "application/vnd.jupyter.widget-view+json": {
       "model_id": "2e5c4d0a9b2e426193506943c4798514",
       "version_major": 2,
       "version_minor": 0
      },
      "text/plain": [
       "  0%|          | 0/288 [00:00<?, ?it/s]"
      ]
     },
     "metadata": {},
     "output_type": "display_data"
    },
    {
     "name": "stderr",
     "output_type": "stream",
     "text": [
      "/tmp/ipykernel_1823253/1930068302.py:12: FutureWarning: ChainedAssignmentError: behaviour will change in pandas 3.0!\n",
      "You are setting values through chained assignment. Currently this works in certain cases, but when using Copy-on-Write (which will become the default behaviour in pandas 3.0) this will never work to update the original DataFrame or Series, because the intermediate object on which we are setting values will behave as a copy.\n",
      "A typical example is when you are setting values in a column of a DataFrame, like:\n",
      "\n",
      "df[\"col\"][row_indexer] = value\n",
      "\n",
      "Use `df.loc[row_indexer, \"col\"] = values` instead, to perform the assignment in a single step and ensure this keeps updating the original `df`.\n",
      "\n",
      "See the caveats in the documentation: https://pandas.pydata.org/pandas-docs/stable/user_guide/indexing.html#returning-a-view-versus-a-copy\n",
      "\n",
      "  wdf.rle[i+j] = encode_mask_to_rle(mask) # 다시 rle로 바꿈\n"
     ]
    }
   ],
   "source": [
    "# 29 * 288\n",
    "# df length를 29개씩 끊어서 처리\n",
    "cnt=0\n",
    "for i in tqdm(range(0, len(wdf), 29)):#한 이미지씩 \n",
    "    # class number\n",
    "    x,y=paired_list[cnt]\n",
    "    for j in range(19,27): # 한 이미지의 한 클래스씩\n",
    "        result = np.zeros((2048, 2048), dtype=int)# 이미지 빈칸\n",
    "        rle = wdf.iloc[i+j].rle #i는 시작점 j는 클래스 0+0 =finger-1 .rle = 한 열 \n",
    "        mask = decode_rle_to_mask_2(rle, 2048, 2048,x,y) # 01 matrix 마스크픽셀 식으로 바꾸기\n",
    "        # calculate with threshold\n",
    "        wdf.rle[i+j] = encode_mask_to_rle(mask) # 다시 rle로 바꿈\n",
    "    cnt +=1\n",
    "    \n"
   ]
  },
  {
   "cell_type": "code",
   "execution_count": 76,
   "metadata": {},
   "outputs": [],
   "source": [
    "wdf.to_csv(\"wrist.csv\", index=False)"
   ]
  },
  {
   "cell_type": "code",
   "execution_count": null,
   "metadata": {},
   "outputs": [],
   "source": []
  }
 ],
 "metadata": {
  "colab": {
   "provenance": []
  },
  "kernelspec": {
   "display_name": "base",
   "language": "python",
   "name": "python3"
  },
  "language_info": {
   "codemirror_mode": {
    "name": "ipython",
    "version": 3
   },
   "file_extension": ".py",
   "mimetype": "text/x-python",
   "name": "python",
   "nbconvert_exporter": "python",
   "pygments_lexer": "ipython3",
   "version": "3.10.13"
  }
 },
 "nbformat": 4,
 "nbformat_minor": 0
}
